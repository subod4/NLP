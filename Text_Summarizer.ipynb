{
  "nbformat": 4,
  "nbformat_minor": 0,
  "metadata": {
    "colab": {
      "provenance": [],
      "authorship_tag": "ABX9TyMe/hDvL3hoU92CO4FO0dN6",
      "include_colab_link": true
    },
    "kernelspec": {
      "name": "python3",
      "display_name": "Python 3"
    },
    "language_info": {
      "name": "python"
    }
  },
  "cells": [
    {
      "cell_type": "markdown",
      "metadata": {
        "id": "view-in-github",
        "colab_type": "text"
      },
      "source": [
        "<a href=\"https://colab.research.google.com/github/subod4/NLP/blob/main/Text_Summarizer.ipynb\" target=\"_parent\"><img src=\"https://colab.research.google.com/assets/colab-badge.svg\" alt=\"Open In Colab\"/></a>"
      ]
    },
    {
      "cell_type": "code",
      "execution_count": 1,
      "metadata": {
        "id": "NImb7bpWp1C_"
      },
      "outputs": [],
      "source": [
        "text = \"Pollution is a pressing issue affecting our planet today, encompassing various forms of contaminants that degrade the environment and pose risks to human health. From air and water pollution to soil and noise pollution, its effects are far-reaching and demand immediate attention. Major contributors to pollution include industrial activities, vehicular emissions, agricultural practices, and improper waste disposal, which release harmful substances like carbon dioxide, sulfur dioxide, nitrogen oxides, and pesticides into the environment, contaminating air, water, and soil. Additionally, deforestation and urbanization exacerbate the problem, disrupting ecosystems and natural balance. Pollution has detrimental effects on both the environment and human health, leading to global warming, acid rain, depletion of the ozone layer, and loss of biodiversity. Polluted air and water cause respiratory diseases, cancer, and other health complications, while contaminated soil affects agricultural productivity, further jeopardizing food security. In conclusion, pollution poses a significant threat to the well-being of our planet and its inhabitants. Addressing this issue requires collective efforts from governments, industries, and individuals. Implementing sustainable practices, investing in clean technologies, and raising awareness are crucial steps towards mitigating pollution and preserving the environment for future generations.\""
      ]
    },
    {
      "cell_type": "code",
      "source": [
        "len(text)"
      ],
      "metadata": {
        "colab": {
          "base_uri": "https://localhost:8080/"
        },
        "id": "pI8-wmHBsSq5",
        "outputId": "76ca98e8-19fd-4121-840e-096f41a53aae"
      },
      "execution_count": 2,
      "outputs": [
        {
          "output_type": "execute_result",
          "data": {
            "text/plain": [
              "1440"
            ]
          },
          "metadata": {},
          "execution_count": 2
        }
      ]
    },
    {
      "cell_type": "code",
      "source": [
        "import spacy\n",
        "from spacy.lang.en.stop_words import STOP_WORDS\n",
        "from string import punctuation"
      ],
      "metadata": {
        "id": "hWVxzOrSuhzk"
      },
      "execution_count": 3,
      "outputs": []
    },
    {
      "cell_type": "code",
      "source": [
        "nlp = spacy.load('en_core_web_sm')"
      ],
      "metadata": {
        "id": "k4ggTJYbvPq1"
      },
      "execution_count": 4,
      "outputs": []
    },
    {
      "cell_type": "code",
      "source": [
        "doc = nlp(text)"
      ],
      "metadata": {
        "id": "83Qij0jZvbY5"
      },
      "execution_count": 6,
      "outputs": []
    },
    {
      "cell_type": "code",
      "source": [
        "tokens = [token.text.lower() for token in doc\n",
        "          if not token.is_stop and\n",
        "          not token.is_punct and token.text != '/n']\n"
      ],
      "metadata": {
        "id": "raBW37m-vkWL"
      },
      "execution_count": 9,
      "outputs": []
    },
    {
      "cell_type": "code",
      "source": [
        "tokens"
      ],
      "metadata": {
        "colab": {
          "base_uri": "https://localhost:8080/"
        },
        "collapsed": true,
        "id": "Ft0e1QFMwS-U",
        "outputId": "b2a7a7ec-747d-4b06-e11a-b99113540b32"
      },
      "execution_count": 10,
      "outputs": [
        {
          "output_type": "execute_result",
          "data": {
            "text/plain": [
              "['pollution',\n",
              " 'pressing',\n",
              " 'issue',\n",
              " 'affecting',\n",
              " 'planet',\n",
              " 'today',\n",
              " 'encompassing',\n",
              " 'forms',\n",
              " 'contaminants',\n",
              " 'degrade',\n",
              " 'environment',\n",
              " 'pose',\n",
              " 'risks',\n",
              " 'human',\n",
              " 'health',\n",
              " 'air',\n",
              " 'water',\n",
              " 'pollution',\n",
              " 'soil',\n",
              " 'noise',\n",
              " 'pollution',\n",
              " 'effects',\n",
              " 'far',\n",
              " 'reaching',\n",
              " 'demand',\n",
              " 'immediate',\n",
              " 'attention',\n",
              " 'major',\n",
              " 'contributors',\n",
              " 'pollution',\n",
              " 'include',\n",
              " 'industrial',\n",
              " 'activities',\n",
              " 'vehicular',\n",
              " 'emissions',\n",
              " 'agricultural',\n",
              " 'practices',\n",
              " 'improper',\n",
              " 'waste',\n",
              " 'disposal',\n",
              " 'release',\n",
              " 'harmful',\n",
              " 'substances',\n",
              " 'like',\n",
              " 'carbon',\n",
              " 'dioxide',\n",
              " 'sulfur',\n",
              " 'dioxide',\n",
              " 'nitrogen',\n",
              " 'oxides',\n",
              " 'pesticides',\n",
              " 'environment',\n",
              " 'contaminating',\n",
              " 'air',\n",
              " 'water',\n",
              " 'soil',\n",
              " 'additionally',\n",
              " 'deforestation',\n",
              " 'urbanization',\n",
              " 'exacerbate',\n",
              " 'problem',\n",
              " 'disrupting',\n",
              " 'ecosystems',\n",
              " 'natural',\n",
              " 'balance',\n",
              " 'pollution',\n",
              " 'detrimental',\n",
              " 'effects',\n",
              " 'environment',\n",
              " 'human',\n",
              " 'health',\n",
              " 'leading',\n",
              " 'global',\n",
              " 'warming',\n",
              " 'acid',\n",
              " 'rain',\n",
              " 'depletion',\n",
              " 'ozone',\n",
              " 'layer',\n",
              " 'loss',\n",
              " 'biodiversity',\n",
              " 'polluted',\n",
              " 'air',\n",
              " 'water',\n",
              " 'cause',\n",
              " 'respiratory',\n",
              " 'diseases',\n",
              " 'cancer',\n",
              " 'health',\n",
              " 'complications',\n",
              " 'contaminated',\n",
              " 'soil',\n",
              " 'affects',\n",
              " 'agricultural',\n",
              " 'productivity',\n",
              " 'jeopardizing',\n",
              " 'food',\n",
              " 'security',\n",
              " 'conclusion',\n",
              " 'pollution',\n",
              " 'poses',\n",
              " 'significant',\n",
              " 'threat',\n",
              " 'planet',\n",
              " 'inhabitants',\n",
              " 'addressing',\n",
              " 'issue',\n",
              " 'requires',\n",
              " 'collective',\n",
              " 'efforts',\n",
              " 'governments',\n",
              " 'industries',\n",
              " 'individuals',\n",
              " 'implementing',\n",
              " 'sustainable',\n",
              " 'practices',\n",
              " 'investing',\n",
              " 'clean',\n",
              " 'technologies',\n",
              " 'raising',\n",
              " 'awareness',\n",
              " 'crucial',\n",
              " 'steps',\n",
              " 'mitigating',\n",
              " 'pollution',\n",
              " 'preserving',\n",
              " 'environment',\n",
              " 'future',\n",
              " 'generations']"
            ]
          },
          "metadata": {},
          "execution_count": 10
        }
      ]
    },
    {
      "cell_type": "code",
      "source": [
        "tokens1 = []\n",
        "stopwords = list(STOP_WORDS)\n",
        "allowed_pos = ['ADJ', 'PROPN', 'VERB', 'NOUN']\n",
        "for token in doc:\n",
        "    if token.text not in stopwords and token.text not in punctuation:\n",
        "        if token.pos_ in allowed_pos:\n",
        "            tokens1.append(token.text)"
      ],
      "metadata": {
        "id": "Wb7JZWV2xI2s"
      },
      "execution_count": 11,
      "outputs": []
    },
    {
      "cell_type": "code",
      "source": [
        "tokens1"
      ],
      "metadata": {
        "colab": {
          "base_uri": "https://localhost:8080/"
        },
        "collapsed": true,
        "id": "RSI3jQdVygwN",
        "outputId": "53239ae8-c6c2-4c47-f834-2fc1b43fe608"
      },
      "execution_count": 12,
      "outputs": [
        {
          "output_type": "execute_result",
          "data": {
            "text/plain": [
              "['Pollution',\n",
              " 'pressing',\n",
              " 'issue',\n",
              " 'affecting',\n",
              " 'planet',\n",
              " 'today',\n",
              " 'encompassing',\n",
              " 'forms',\n",
              " 'contaminants',\n",
              " 'degrade',\n",
              " 'environment',\n",
              " 'pose',\n",
              " 'risks',\n",
              " 'human',\n",
              " 'health',\n",
              " 'air',\n",
              " 'water',\n",
              " 'pollution',\n",
              " 'soil',\n",
              " 'noise',\n",
              " 'pollution',\n",
              " 'effects',\n",
              " 'reaching',\n",
              " 'demand',\n",
              " 'immediate',\n",
              " 'attention',\n",
              " 'Major',\n",
              " 'contributors',\n",
              " 'pollution',\n",
              " 'include',\n",
              " 'industrial',\n",
              " 'activities',\n",
              " 'vehicular',\n",
              " 'emissions',\n",
              " 'agricultural',\n",
              " 'practices',\n",
              " 'improper',\n",
              " 'waste',\n",
              " 'disposal',\n",
              " 'release',\n",
              " 'harmful',\n",
              " 'substances',\n",
              " 'carbon',\n",
              " 'dioxide',\n",
              " 'sulfur',\n",
              " 'dioxide',\n",
              " 'nitrogen',\n",
              " 'oxides',\n",
              " 'pesticides',\n",
              " 'environment',\n",
              " 'contaminating',\n",
              " 'air',\n",
              " 'water',\n",
              " 'soil',\n",
              " 'deforestation',\n",
              " 'urbanization',\n",
              " 'exacerbate',\n",
              " 'problem',\n",
              " 'disrupting',\n",
              " 'ecosystems',\n",
              " 'natural',\n",
              " 'balance',\n",
              " 'Pollution',\n",
              " 'detrimental',\n",
              " 'effects',\n",
              " 'environment',\n",
              " 'human',\n",
              " 'health',\n",
              " 'leading',\n",
              " 'global',\n",
              " 'warming',\n",
              " 'acid',\n",
              " 'rain',\n",
              " 'depletion',\n",
              " 'ozone',\n",
              " 'layer',\n",
              " 'loss',\n",
              " 'biodiversity',\n",
              " 'Polluted',\n",
              " 'air',\n",
              " 'water',\n",
              " 'cause',\n",
              " 'respiratory',\n",
              " 'diseases',\n",
              " 'cancer',\n",
              " 'health',\n",
              " 'complications',\n",
              " 'contaminated',\n",
              " 'soil',\n",
              " 'affects',\n",
              " 'agricultural',\n",
              " 'productivity',\n",
              " 'jeopardizing',\n",
              " 'food',\n",
              " 'security',\n",
              " 'conclusion',\n",
              " 'pollution',\n",
              " 'poses',\n",
              " 'significant',\n",
              " 'threat',\n",
              " 'planet',\n",
              " 'inhabitants',\n",
              " 'Addressing',\n",
              " 'issue',\n",
              " 'requires',\n",
              " 'collective',\n",
              " 'efforts',\n",
              " 'governments',\n",
              " 'industries',\n",
              " 'individuals',\n",
              " 'Implementing',\n",
              " 'sustainable',\n",
              " 'practices',\n",
              " 'investing',\n",
              " 'clean',\n",
              " 'technologies',\n",
              " 'raising',\n",
              " 'awareness',\n",
              " 'crucial',\n",
              " 'steps',\n",
              " 'mitigating',\n",
              " 'pollution',\n",
              " 'preserving',\n",
              " 'environment',\n",
              " 'future',\n",
              " 'generations']"
            ]
          },
          "metadata": {},
          "execution_count": 12
        }
      ]
    }
  ]
}